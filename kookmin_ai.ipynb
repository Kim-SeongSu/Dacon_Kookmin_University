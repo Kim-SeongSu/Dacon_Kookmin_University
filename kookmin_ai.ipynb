{
 "cells": [
  {
   "cell_type": "markdown",
   "metadata": {},
   "source": [
    "# 0. import 라이브러리 \n"
   ]
  },
  {
   "cell_type": "code",
   "execution_count": 1,
   "metadata": {},
   "outputs": [],
   "source": [
    "import numpy as np\n",
    "import pandas as pd"
   ]
  },
  {
   "cell_type": "markdown",
   "metadata": {},
   "source": [
    "# 1. 데이터 준비"
   ]
  },
  {
   "cell_type": "markdown",
   "metadata": {},
   "source": [
    "## 1.1 데이터 불러오기"
   ]
  },
  {
   "cell_type": "code",
   "execution_count": 12,
   "metadata": {},
   "outputs": [],
   "source": [
    "# 데이터 불러오기\n",
    "recruitment_data = pd.read_csv(\"./data/raw_data/recruitment.csv\")\n",
    "company_data = pd.read_csv(\"./data/raw_data/company.csv\")\n",
    "resume_data = pd.read_csv(\"./data/raw_data/resume.csv\")\n",
    "resume_certificate_data = pd.read_csv(\"./data/raw_data/resume_certificate.csv\")\n",
    "resume_education_data = pd.read_csv(\"./data/raw_data/resume_education.csv\")\n",
    "resume_language_data = pd.read_csv(\"./data/raw_data/resume_language.csv\")\n",
    "\n",
    "apply_train_data = pd.read_csv(\"./data/raw_data/apply_train.csv\")\n",
    "sample_submission_data = pd.read_csv(\"./data/raw_data/sample_submission.csv\")"
   ]
  },
  {
   "cell_type": "markdown",
   "metadata": {},
   "source": [
    "## 1.2 데이터 확인 및 전처리"
   ]
  },
  {
   "cell_type": "markdown",
   "metadata": {},
   "source": [
    "### 1.2.1 recruitment (6,695)"
   ]
  },
  {
   "cell_type": "markdown",
   "metadata": {},
   "source": [
    "|seq|columns|description|note|\n",
    "|--|--|--|--|\n",
    "|0|recruitment_seq|공고번호|PK|\n",
    "|1|address_seq1|근무지주소코드1||\n",
    "|2|address_seq2|근무지주소코드2||\n",
    "|3|address_seq3|근무지주소코드3||\n",
    "|4|career_end|요구 최대경력||\n",
    "|5|career_start|요구 최소경력||\n",
    "|6|check_box_keyword|모집직무코드|; 으로 구분|\n",
    "|7|education|요구학위||\n",
    "|8|major_task|주업무코드||\n",
    "|9|qualifications|자격요건난이도||\n",
    "|10|text_keyword|모집직무키워드|; 으로 구분|"
   ]
  },
  {
   "cell_type": "code",
   "execution_count": 20,
   "metadata": {},
   "outputs": [
    {
     "data": {
      "text/html": [
       "<div>\n",
       "<style scoped>\n",
       "    .dataframe tbody tr th:only-of-type {\n",
       "        vertical-align: middle;\n",
       "    }\n",
       "\n",
       "    .dataframe tbody tr th {\n",
       "        vertical-align: top;\n",
       "    }\n",
       "\n",
       "    .dataframe thead th {\n",
       "        text-align: right;\n",
       "    }\n",
       "</style>\n",
       "<table border=\"1\" class=\"dataframe\">\n",
       "  <thead>\n",
       "    <tr style=\"text-align: right;\">\n",
       "      <th></th>\n",
       "      <th>recruitment_seq</th>\n",
       "      <th>address_seq1</th>\n",
       "      <th>address_seq2</th>\n",
       "      <th>address_seq3</th>\n",
       "      <th>career_end</th>\n",
       "      <th>career_start</th>\n",
       "      <th>check_box_keyword</th>\n",
       "      <th>education</th>\n",
       "      <th>major_task</th>\n",
       "      <th>qualifications</th>\n",
       "      <th>text_keyword</th>\n",
       "    </tr>\n",
       "  </thead>\n",
       "  <tbody>\n",
       "    <tr>\n",
       "      <th>6692</th>\n",
       "      <td>R03252</td>\n",
       "      <td>3.0</td>\n",
       "      <td>NaN</td>\n",
       "      <td>NaN</td>\n",
       "      <td>0</td>\n",
       "      <td>0</td>\n",
       "      <td>2109</td>\n",
       "      <td>3</td>\n",
       "      <td>2</td>\n",
       "      <td>1</td>\n",
       "      <td>NaN</td>\n",
       "    </tr>\n",
       "    <tr>\n",
       "      <th>6693</th>\n",
       "      <td>R05130</td>\n",
       "      <td>3.0</td>\n",
       "      <td>NaN</td>\n",
       "      <td>NaN</td>\n",
       "      <td>0</td>\n",
       "      <td>0</td>\n",
       "      <td>2201;2204;2205;2707</td>\n",
       "      <td>2</td>\n",
       "      <td>2</td>\n",
       "      <td>2</td>\n",
       "      <td>NaN</td>\n",
       "    </tr>\n",
       "    <tr>\n",
       "      <th>6694</th>\n",
       "      <td>R04779</td>\n",
       "      <td>3.0</td>\n",
       "      <td>NaN</td>\n",
       "      <td>NaN</td>\n",
       "      <td>0</td>\n",
       "      <td>0</td>\n",
       "      <td>2101;2108;2201;2707</td>\n",
       "      <td>3</td>\n",
       "      <td>8</td>\n",
       "      <td>1</td>\n",
       "      <td>NaN</td>\n",
       "    </tr>\n",
       "  </tbody>\n",
       "</table>\n",
       "</div>"
      ],
      "text/plain": [
       "     recruitment_seq  address_seq1  address_seq2  address_seq3  career_end  \\\n",
       "6692          R03252           3.0           NaN           NaN           0   \n",
       "6693          R05130           3.0           NaN           NaN           0   \n",
       "6694          R04779           3.0           NaN           NaN           0   \n",
       "\n",
       "      career_start    check_box_keyword  education  major_task  \\\n",
       "6692             0                 2109          3           2   \n",
       "6693             0  2201;2204;2205;2707          2           2   \n",
       "6694             0  2101;2108;2201;2707          3           8   \n",
       "\n",
       "      qualifications text_keyword  \n",
       "6692               1          NaN  \n",
       "6693               2          NaN  \n",
       "6694               1          NaN  "
      ]
     },
     "metadata": {},
     "output_type": "display_data"
    },
    {
     "name": "stdout",
     "output_type": "stream",
     "text": [
      "recruitment_seq         0\n",
      "address_seq1            1\n",
      "address_seq2         6595\n",
      "address_seq3         6686\n",
      "career_end              0\n",
      "career_start            0\n",
      "check_box_keyword       0\n",
      "education               0\n",
      "major_task              0\n",
      "qualifications          0\n",
      "text_keyword         5988\n",
      "dtype: int64\n"
     ]
    }
   ],
   "source": [
    "# 데이터 확인\n",
    "display(recruitment_data.tail(3))\n",
    "\n",
    "# 결측치 확인\n",
    "print(recruitment_data.isna().sum())"
   ]
  },
  {
   "cell_type": "code",
   "execution_count": 53,
   "metadata": {},
   "outputs": [
    {
     "name": "stdout",
     "output_type": "stream",
     "text": [
      "recruitment_seq      0\n",
      "address_seq1         0\n",
      "address_seq2         0\n",
      "address_seq3         0\n",
      "career_end           0\n",
      "career_start         0\n",
      "check_box_keyword    0\n",
      "education            0\n",
      "major_task           0\n",
      "qualifications       0\n",
      "text_keyword         0\n",
      "dtype: int64\n"
     ]
    }
   ],
   "source": [
    "# address_seq 컬럼 중 NaN를 0.0로 변경\n",
    "recruitment_data.address_seq1 = recruitment_data.address_seq1.replace(np.NAN, 0.0)\n",
    "recruitment_data.address_seq2 = recruitment_data.address_seq2.replace(np.NAN, 0.0)\n",
    "recruitment_data.address_seq3 = recruitment_data.address_seq3.replace(np.NAN, 0.0)\n",
    "\n",
    "# text_keyword 컬럼 중 NaN를 ' '로 변경\n",
    "recruitment_data.text_keyword = recruitment_data.text_keyword.replace(np.NAN, ' ')\n",
    "\n",
    "# 결측치 재확인\n",
    "print(recruitment_data.isna().sum())"
   ]
  },
  {
   "cell_type": "markdown",
   "metadata": {},
   "source": [
    "### 1.2.2 company (2,377)"
   ]
  },
  {
   "cell_type": "markdown",
   "metadata": {},
   "source": [
    "|seq|columns|description|note|\n",
    "|--|--|--|--|\n",
    "|0|recruitment_seq|공고번호|FK|\n",
    "|1|company_type_seq|회사유형코드||\n",
    "|2|supply_kind|주업종코드||\n",
    "|3|employee|종업원수||"
   ]
  },
  {
   "cell_type": "code",
   "execution_count": 22,
   "metadata": {},
   "outputs": [
    {
     "data": {
      "text/html": [
       "<div>\n",
       "<style scoped>\n",
       "    .dataframe tbody tr th:only-of-type {\n",
       "        vertical-align: middle;\n",
       "    }\n",
       "\n",
       "    .dataframe tbody tr th {\n",
       "        vertical-align: top;\n",
       "    }\n",
       "\n",
       "    .dataframe thead th {\n",
       "        text-align: right;\n",
       "    }\n",
       "</style>\n",
       "<table border=\"1\" class=\"dataframe\">\n",
       "  <thead>\n",
       "    <tr style=\"text-align: right;\">\n",
       "      <th></th>\n",
       "      <th>recruitment_seq</th>\n",
       "      <th>company_type_seq</th>\n",
       "      <th>supply_kind</th>\n",
       "      <th>employee</th>\n",
       "    </tr>\n",
       "  </thead>\n",
       "  <tbody>\n",
       "    <tr>\n",
       "      <th>2374</th>\n",
       "      <td>R04028</td>\n",
       "      <td>4</td>\n",
       "      <td>402</td>\n",
       "      <td>525</td>\n",
       "    </tr>\n",
       "    <tr>\n",
       "      <th>2375</th>\n",
       "      <td>R06508</td>\n",
       "      <td>2</td>\n",
       "      <td>402</td>\n",
       "      <td>70</td>\n",
       "    </tr>\n",
       "    <tr>\n",
       "      <th>2376</th>\n",
       "      <td>R00604</td>\n",
       "      <td>5</td>\n",
       "      <td>402</td>\n",
       "      <td>300</td>\n",
       "    </tr>\n",
       "  </tbody>\n",
       "</table>\n",
       "</div>"
      ],
      "text/plain": [
       "     recruitment_seq  company_type_seq  supply_kind  employee\n",
       "2374          R04028                 4          402       525\n",
       "2375          R06508                 2          402        70\n",
       "2376          R00604                 5          402       300"
      ]
     },
     "metadata": {},
     "output_type": "display_data"
    },
    {
     "name": "stdout",
     "output_type": "stream",
     "text": [
      "recruitment_seq     0\n",
      "company_type_seq    0\n",
      "supply_kind         0\n",
      "employee            0\n",
      "dtype: int64\n"
     ]
    }
   ],
   "source": [
    "# 데이터 확인\n",
    "display(company_data.tail(3))\n",
    "\n",
    "# 결측치 확인\n",
    "print(company_data.isna().sum())"
   ]
  },
  {
   "cell_type": "markdown",
   "metadata": {},
   "source": [
    "### 1.2.3 resume (8,482)"
   ]
  },
  {
   "cell_type": "markdown",
   "metadata": {},
   "source": [
    "|seq|columns|description|note|\n",
    "|--|--|--|--|\n",
    "|0|resume_seq|이력서번호|PK|\n",
    "|1|reg_data|이력서등록일||\n",
    "|2|updated_data|이력서수정일||\n",
    "|3|degree|최종학력||\n",
    "|4|graduate_data|졸업년도||\n",
    "|5|hope_salary|희망연봉||\n",
    "|6|last_salary|최종연봉||\n",
    "|7|text_keyword|직무키워드|; 으로 구분|\n",
    "|8|job_code_seq1|희망직무1||\n",
    "|9|job_code_seq2|희망직무2||\n",
    "|10|job_code_seq3|희망직무3||\n",
    "|11|career_month|경력월||\n",
    "|12|career_job_code|경력직무|; 으로 구분|"
   ]
  },
  {
   "cell_type": "code",
   "execution_count": 21,
   "metadata": {},
   "outputs": [
    {
     "data": {
      "text/html": [
       "<div>\n",
       "<style scoped>\n",
       "    .dataframe tbody tr th:only-of-type {\n",
       "        vertical-align: middle;\n",
       "    }\n",
       "\n",
       "    .dataframe tbody tr th {\n",
       "        vertical-align: top;\n",
       "    }\n",
       "\n",
       "    .dataframe thead th {\n",
       "        text-align: right;\n",
       "    }\n",
       "</style>\n",
       "<table border=\"1\" class=\"dataframe\">\n",
       "  <thead>\n",
       "    <tr style=\"text-align: right;\">\n",
       "      <th></th>\n",
       "      <th>resume_seq</th>\n",
       "      <th>reg_date</th>\n",
       "      <th>updated_date</th>\n",
       "      <th>degree</th>\n",
       "      <th>graduate_date</th>\n",
       "      <th>hope_salary</th>\n",
       "      <th>last_salary</th>\n",
       "      <th>text_keyword</th>\n",
       "      <th>job_code_seq1</th>\n",
       "      <th>job_code_seq2</th>\n",
       "      <th>job_code_seq3</th>\n",
       "      <th>career_month</th>\n",
       "      <th>career_job_code</th>\n",
       "    </tr>\n",
       "  </thead>\n",
       "  <tbody>\n",
       "    <tr>\n",
       "      <th>8479</th>\n",
       "      <td>U01468</td>\n",
       "      <td>2019-02-26</td>\n",
       "      <td>2020-06-23</td>\n",
       "      <td>4</td>\n",
       "      <td>2008</td>\n",
       "      <td>0.0</td>\n",
       "      <td>0.0</td>\n",
       "      <td>상품기획MD;우븐디자인</td>\n",
       "      <td>디자인</td>\n",
       "      <td>NaN</td>\n",
       "      <td>NaN</td>\n",
       "      <td>0</td>\n",
       "      <td>섬유;봉제;가방;의류</td>\n",
       "    </tr>\n",
       "    <tr>\n",
       "      <th>8480</th>\n",
       "      <td>U05315</td>\n",
       "      <td>2020-03-27</td>\n",
       "      <td>2020-12-21</td>\n",
       "      <td>4</td>\n",
       "      <td>2016</td>\n",
       "      <td>0.0</td>\n",
       "      <td>0.0</td>\n",
       "      <td>여성복디자인;우븐디자인;다이마루디자인</td>\n",
       "      <td>재료·화학·섬유·의복</td>\n",
       "      <td>NaN</td>\n",
       "      <td>NaN</td>\n",
       "      <td>18</td>\n",
       "      <td>디자인;CAD;설계</td>\n",
       "    </tr>\n",
       "    <tr>\n",
       "      <th>8481</th>\n",
       "      <td>U01277</td>\n",
       "      <td>2020-09-22</td>\n",
       "      <td>2020-09-22</td>\n",
       "      <td>4</td>\n",
       "      <td>2009</td>\n",
       "      <td>2100.0</td>\n",
       "      <td>1000.0</td>\n",
       "      <td>상품기획;머천다이저</td>\n",
       "      <td>재료·화학·섬유·의복</td>\n",
       "      <td>NaN</td>\n",
       "      <td>NaN</td>\n",
       "      <td>3</td>\n",
       "      <td>섬유;봉제;가방;의류</td>\n",
       "    </tr>\n",
       "  </tbody>\n",
       "</table>\n",
       "</div>"
      ],
      "text/plain": [
       "     resume_seq    reg_date updated_date  degree  graduate_date  hope_salary  \\\n",
       "8479     U01468  2019-02-26   2020-06-23       4           2008          0.0   \n",
       "8480     U05315  2020-03-27   2020-12-21       4           2016          0.0   \n",
       "8481     U01277  2020-09-22   2020-09-22       4           2009       2100.0   \n",
       "\n",
       "      last_salary          text_keyword job_code_seq1 job_code_seq2  \\\n",
       "8479          0.0          상품기획MD;우븐디자인           디자인           NaN   \n",
       "8480          0.0  여성복디자인;우븐디자인;다이마루디자인   재료·화학·섬유·의복           NaN   \n",
       "8481       1000.0            상품기획;머천다이저   재료·화학·섬유·의복           NaN   \n",
       "\n",
       "     job_code_seq3  career_month career_job_code  \n",
       "8479           NaN             0     섬유;봉제;가방;의류  \n",
       "8480           NaN            18      디자인;CAD;설계  \n",
       "8481           NaN             3     섬유;봉제;가방;의류  "
      ]
     },
     "metadata": {},
     "output_type": "display_data"
    },
    {
     "name": "stdout",
     "output_type": "stream",
     "text": [
      "resume_seq            0\n",
      "reg_date              0\n",
      "updated_date          0\n",
      "degree                0\n",
      "graduate_date         0\n",
      "hope_salary           0\n",
      "last_salary           0\n",
      "text_keyword        195\n",
      "job_code_seq1         0\n",
      "job_code_seq2      7982\n",
      "job_code_seq3      8295\n",
      "career_month          0\n",
      "career_job_code     758\n",
      "dtype: int64\n"
     ]
    }
   ],
   "source": [
    "# 데이터 확인\n",
    "display(resume_data.tail(3))\n",
    "\n",
    "# 결측치 확인\n",
    "print(resume_data.isna().sum())"
   ]
  },
  {
   "cell_type": "code",
   "execution_count": null,
   "metadata": {},
   "outputs": [],
   "source": [
    "# address_seq 컬럼 중 NaN를 0.0로 변경\n",
    "resume_data.text_keyword = recruitment_data.address_seq1.replace(np.NAN, 0.0)\n",
    "recruitment_data.address_seq2 = recruitment_data.address_seq2.replace(np.NAN, 0.0)\n",
    "recruitment_data.address_seq3 = recruitment_data.address_seq3.replace(np.NAN, 0.0)\n",
    "\n",
    "# text_keyword 컬럼 중 NaN를 ' '로 변경\n",
    "recruitment_data.text_keyword = recruitment_data.text_keyword.replace(np.NAN, ' ')\n",
    "\n",
    "# 결측치 재확인\n",
    "print(recruitment_data.isna().sum())"
   ]
  },
  {
   "cell_type": "markdown",
   "metadata": {},
   "source": [
    "### 1.2.4 resume_certificate (12,975)"
   ]
  },
  {
   "cell_type": "markdown",
   "metadata": {},
   "source": [
    "|seq|columns|description|note|\n",
    "|--|--|--|--|\n",
    "|0|resume_seq|이력서번호|FK|\n",
    "|1|certificate_contents|자격증명||"
   ]
  },
  {
   "cell_type": "code",
   "execution_count": 42,
   "metadata": {},
   "outputs": [
    {
     "data": {
      "text/html": [
       "<div>\n",
       "<style scoped>\n",
       "    .dataframe tbody tr th:only-of-type {\n",
       "        vertical-align: middle;\n",
       "    }\n",
       "\n",
       "    .dataframe tbody tr th {\n",
       "        vertical-align: top;\n",
       "    }\n",
       "\n",
       "    .dataframe thead th {\n",
       "        text-align: right;\n",
       "    }\n",
       "</style>\n",
       "<table border=\"1\" class=\"dataframe\">\n",
       "  <thead>\n",
       "    <tr style=\"text-align: right;\">\n",
       "      <th></th>\n",
       "      <th>resume_seq</th>\n",
       "      <th>certificate_contents</th>\n",
       "    </tr>\n",
       "  </thead>\n",
       "  <tbody>\n",
       "    <tr>\n",
       "      <th>12972</th>\n",
       "      <td>U03248</td>\n",
       "      <td>수치제어밀링기능사</td>\n",
       "    </tr>\n",
       "    <tr>\n",
       "      <th>12973</th>\n",
       "      <td>U08157</td>\n",
       "      <td>주산2급</td>\n",
       "    </tr>\n",
       "    <tr>\n",
       "      <th>12974</th>\n",
       "      <td>U02889</td>\n",
       "      <td>유통관리사 2급</td>\n",
       "    </tr>\n",
       "  </tbody>\n",
       "</table>\n",
       "</div>"
      ],
      "text/plain": [
       "      resume_seq certificate_contents\n",
       "12972     U03248            수치제어밀링기능사\n",
       "12973     U08157                 주산2급\n",
       "12974     U02889             유통관리사 2급"
      ]
     },
     "metadata": {},
     "output_type": "display_data"
    },
    {
     "name": "stdout",
     "output_type": "stream",
     "text": [
      "resume_seq              0\n",
      "certificate_contents    4\n",
      "dtype: int64\n"
     ]
    }
   ],
   "source": [
    "# 데이터 확인\n",
    "display(resume_certificate_data.tail(3))\n",
    "\n",
    "# 결측치 확인\n",
    "print(resume_certificate_data.isna().sum())"
   ]
  },
  {
   "cell_type": "markdown",
   "metadata": {},
   "source": [
    "### 1.2.5 resume_education (8,482)"
   ]
  },
  {
   "cell_type": "markdown",
   "metadata": {},
   "source": [
    "|seq|columns|description|note|\n",
    "|--|--|--|--|\n",
    "|0|resume_seq|이력서번호|FK|\n",
    "|1|hischool_type_seq|고등학교유형코드||\n",
    "|2|hischool_special_type|특수고등학교분류||\n",
    "|3|hischool_nation|고등학교공립/사립구분||\n",
    "|4|hischool_gender|고등학교남녀/공학구분||\n",
    "|5|hischool_location_seq|고등학교지역코드||\n",
    "|6|univ_type_seq1|최종대학(원)유형코드1||\n",
    "|7|univ_type_seq2|최종대학(원)유형코드2||\n",
    "|8|univ_tranfer|최종대학(원)편입여부|편입: 1|\n",
    "|9|univ_location|최종대학(원)지역코드|\n",
    "|10|univ_major|최종대학(원)전공||\n",
    "|11|univ_sub_major|최종대학(원)부전공||\n",
    "|12|univ_major_type|최종대학(원)주전공계열코드||\n",
    "|13|univ_score|최종대학(원)평균평점||"
   ]
  },
  {
   "cell_type": "code",
   "execution_count": 43,
   "metadata": {},
   "outputs": [
    {
     "data": {
      "text/html": [
       "<div>\n",
       "<style scoped>\n",
       "    .dataframe tbody tr th:only-of-type {\n",
       "        vertical-align: middle;\n",
       "    }\n",
       "\n",
       "    .dataframe tbody tr th {\n",
       "        vertical-align: top;\n",
       "    }\n",
       "\n",
       "    .dataframe thead th {\n",
       "        text-align: right;\n",
       "    }\n",
       "</style>\n",
       "<table border=\"1\" class=\"dataframe\">\n",
       "  <thead>\n",
       "    <tr style=\"text-align: right;\">\n",
       "      <th></th>\n",
       "      <th>resume_seq</th>\n",
       "      <th>hischool_type_seq</th>\n",
       "      <th>hischool_special_type</th>\n",
       "      <th>hischool_nation</th>\n",
       "      <th>hischool_gender</th>\n",
       "      <th>hischool_location_seq</th>\n",
       "      <th>univ_type_seq1</th>\n",
       "      <th>univ_type_seq2</th>\n",
       "      <th>univ_transfer</th>\n",
       "      <th>univ_location</th>\n",
       "      <th>univ_major</th>\n",
       "      <th>univ_sub_major</th>\n",
       "      <th>univ_major_type</th>\n",
       "      <th>univ_score</th>\n",
       "    </tr>\n",
       "  </thead>\n",
       "  <tbody>\n",
       "    <tr>\n",
       "      <th>8479</th>\n",
       "      <td>U04109</td>\n",
       "      <td>21</td>\n",
       "      <td>일반고</td>\n",
       "      <td>공립</td>\n",
       "      <td>남여공학</td>\n",
       "      <td>5</td>\n",
       "      <td>0</td>\n",
       "      <td>0</td>\n",
       "      <td>0</td>\n",
       "      <td>0</td>\n",
       "      <td>NaN</td>\n",
       "      <td>NaN</td>\n",
       "      <td>9</td>\n",
       "      <td>80.0</td>\n",
       "    </tr>\n",
       "    <tr>\n",
       "      <th>8480</th>\n",
       "      <td>U01863</td>\n",
       "      <td>21</td>\n",
       "      <td>일반고</td>\n",
       "      <td>사립</td>\n",
       "      <td>여자학교</td>\n",
       "      <td>15</td>\n",
       "      <td>3</td>\n",
       "      <td>5</td>\n",
       "      <td>0</td>\n",
       "      <td>15</td>\n",
       "      <td>의류학과생활과학계열</td>\n",
       "      <td>NaN</td>\n",
       "      <td>9</td>\n",
       "      <td>80.0</td>\n",
       "    </tr>\n",
       "    <tr>\n",
       "      <th>8481</th>\n",
       "      <td>U05884</td>\n",
       "      <td>0</td>\n",
       "      <td>기타</td>\n",
       "      <td>기타</td>\n",
       "      <td>기타</td>\n",
       "      <td>0</td>\n",
       "      <td>5</td>\n",
       "      <td>5</td>\n",
       "      <td>0</td>\n",
       "      <td>11</td>\n",
       "      <td>NaN</td>\n",
       "      <td>NaN</td>\n",
       "      <td>9</td>\n",
       "      <td>90.0</td>\n",
       "    </tr>\n",
       "  </tbody>\n",
       "</table>\n",
       "</div>"
      ],
      "text/plain": [
       "     resume_seq  hischool_type_seq hischool_special_type hischool_nation  \\\n",
       "8479     U04109                 21                   일반고              공립   \n",
       "8480     U01863                 21                   일반고              사립   \n",
       "8481     U05884                  0                    기타              기타   \n",
       "\n",
       "     hischool_gender  hischool_location_seq  univ_type_seq1  univ_type_seq2  \\\n",
       "8479            남여공학                      5               0               0   \n",
       "8480            여자학교                     15               3               5   \n",
       "8481              기타                      0               5               5   \n",
       "\n",
       "      univ_transfer  univ_location  univ_major univ_sub_major  \\\n",
       "8479              0              0         NaN            NaN   \n",
       "8480              0             15  의류학과생활과학계열            NaN   \n",
       "8481              0             11         NaN            NaN   \n",
       "\n",
       "      univ_major_type  univ_score  \n",
       "8479                9        80.0  \n",
       "8480                9        80.0  \n",
       "8481                9        90.0  "
      ]
     },
     "metadata": {},
     "output_type": "display_data"
    },
    {
     "name": "stdout",
     "output_type": "stream",
     "text": [
      "resume_seq                  0\n",
      "hischool_type_seq           0\n",
      "hischool_special_type       0\n",
      "hischool_nation             0\n",
      "hischool_gender             0\n",
      "hischool_location_seq       0\n",
      "univ_type_seq1              0\n",
      "univ_type_seq2              0\n",
      "univ_transfer               0\n",
      "univ_location               0\n",
      "univ_major               6687\n",
      "univ_sub_major           8066\n",
      "univ_major_type             0\n",
      "univ_score                  0\n",
      "dtype: int64\n"
     ]
    }
   ],
   "source": [
    "# 데이터 확인\n",
    "display(resume_education_data.tail(3))\n",
    "\n",
    "# 결측치 확인\n",
    "print(resume_education_data.isna().sum())"
   ]
  },
  {
   "cell_type": "markdown",
   "metadata": {},
   "source": [
    "### 1.2.6 resume_language (869)"
   ]
  },
  {
   "cell_type": "markdown",
   "metadata": {},
   "source": [
    "|seq|columns|description|note|\n",
    "|--|--|--|--|\n",
    "|0|resume_seq|이력서번호|FK|\n",
    "|1|language|외국어코드||\n",
    "|2|exam_name|공인시험코드||\n",
    "|3|score|점수||"
   ]
  },
  {
   "cell_type": "code",
   "execution_count": 44,
   "metadata": {},
   "outputs": [
    {
     "data": {
      "text/html": [
       "<div>\n",
       "<style scoped>\n",
       "    .dataframe tbody tr th:only-of-type {\n",
       "        vertical-align: middle;\n",
       "    }\n",
       "\n",
       "    .dataframe tbody tr th {\n",
       "        vertical-align: top;\n",
       "    }\n",
       "\n",
       "    .dataframe thead th {\n",
       "        text-align: right;\n",
       "    }\n",
       "</style>\n",
       "<table border=\"1\" class=\"dataframe\">\n",
       "  <thead>\n",
       "    <tr style=\"text-align: right;\">\n",
       "      <th></th>\n",
       "      <th>resume_seq</th>\n",
       "      <th>language</th>\n",
       "      <th>exam_name</th>\n",
       "      <th>score</th>\n",
       "    </tr>\n",
       "  </thead>\n",
       "  <tbody>\n",
       "    <tr>\n",
       "      <th>866</th>\n",
       "      <td>U05922</td>\n",
       "      <td>2</td>\n",
       "      <td>2</td>\n",
       "      <td>500.00</td>\n",
       "    </tr>\n",
       "    <tr>\n",
       "      <th>867</th>\n",
       "      <td>U03827</td>\n",
       "      <td>2</td>\n",
       "      <td>4</td>\n",
       "      <td>883.84</td>\n",
       "    </tr>\n",
       "    <tr>\n",
       "      <th>868</th>\n",
       "      <td>U04680</td>\n",
       "      <td>2</td>\n",
       "      <td>4</td>\n",
       "      <td>666.67</td>\n",
       "    </tr>\n",
       "  </tbody>\n",
       "</table>\n",
       "</div>"
      ],
      "text/plain": [
       "    resume_seq  language  exam_name   score\n",
       "866     U05922         2          2  500.00\n",
       "867     U03827         2          4  883.84\n",
       "868     U04680         2          4  666.67"
      ]
     },
     "metadata": {},
     "output_type": "display_data"
    },
    {
     "name": "stdout",
     "output_type": "stream",
     "text": [
      "resume_seq    0\n",
      "language      0\n",
      "exam_name     0\n",
      "score         0\n",
      "dtype: int64\n"
     ]
    }
   ],
   "source": [
    "# 데이터 확인\n",
    "display(resume_language_data.tail(3))\n",
    "\n",
    "# 결측치 확인\n",
    "print(resume_language_data.isna().sum())"
   ]
  },
  {
   "cell_type": "markdown",
   "metadata": {},
   "source": [
    "### 1.2.7 apply_train (57,946)"
   ]
  },
  {
   "cell_type": "markdown",
   "metadata": {},
   "source": [
    "|seq|columns|description|note|\n",
    "|--|--|--|--|\n",
    "|0|resume_seq|이력서번호|FK|\n",
    "|<span style=\"color:yellow\">1|<span style=\"color:yellow\">recruitment_seq|<span style=\"color:yellow\">공고번호|<span style=\"color:yellow\">TARGET(FK)</span>|"
   ]
  },
  {
   "cell_type": "code",
   "execution_count": 45,
   "metadata": {},
   "outputs": [
    {
     "data": {
      "text/html": [
       "<div>\n",
       "<style scoped>\n",
       "    .dataframe tbody tr th:only-of-type {\n",
       "        vertical-align: middle;\n",
       "    }\n",
       "\n",
       "    .dataframe tbody tr th {\n",
       "        vertical-align: top;\n",
       "    }\n",
       "\n",
       "    .dataframe thead th {\n",
       "        text-align: right;\n",
       "    }\n",
       "</style>\n",
       "<table border=\"1\" class=\"dataframe\">\n",
       "  <thead>\n",
       "    <tr style=\"text-align: right;\">\n",
       "      <th></th>\n",
       "      <th>resume_seq</th>\n",
       "      <th>recruitment_seq</th>\n",
       "    </tr>\n",
       "  </thead>\n",
       "  <tbody>\n",
       "    <tr>\n",
       "      <th>57943</th>\n",
       "      <td>U08238</td>\n",
       "      <td>R01342</td>\n",
       "    </tr>\n",
       "    <tr>\n",
       "      <th>57944</th>\n",
       "      <td>U01296</td>\n",
       "      <td>R06363</td>\n",
       "    </tr>\n",
       "    <tr>\n",
       "      <th>57945</th>\n",
       "      <td>U05748</td>\n",
       "      <td>R03090</td>\n",
       "    </tr>\n",
       "  </tbody>\n",
       "</table>\n",
       "</div>"
      ],
      "text/plain": [
       "      resume_seq recruitment_seq\n",
       "57943     U08238          R01342\n",
       "57944     U01296          R06363\n",
       "57945     U05748          R03090"
      ]
     },
     "metadata": {},
     "output_type": "display_data"
    },
    {
     "name": "stdout",
     "output_type": "stream",
     "text": [
      "resume_seq         0\n",
      "recruitment_seq    0\n",
      "dtype: int64\n"
     ]
    }
   ],
   "source": [
    "# 데이터 확인\n",
    "display(apply_train_data.tail(3))\n",
    "\n",
    "# 결측치 확인\n",
    "print(apply_train_data.isna().sum())"
   ]
  },
  {
   "cell_type": "markdown",
   "metadata": {},
   "source": [
    "### 1.2.8 sample_submission (42,410)"
   ]
  },
  {
   "cell_type": "markdown",
   "metadata": {},
   "source": [
    "> 사용자별로 5개씩 공고ID추천리스트 생성\n",
    "\n",
    "\n",
    "|seq|columns|description|note|\n",
    "|--|--|--|--|\n",
    "|0|resume_seq|이력서번호|FK|\n",
    "|<span style=\"color:yellow\">1|<span style=\"color:yellow\">recruitment_seq|<span style=\"color:yellow\">공고번호|<span style=\"color:yellow\">TARGET(FK)</span>|"
   ]
  },
  {
   "cell_type": "code",
   "execution_count": 47,
   "metadata": {},
   "outputs": [
    {
     "data": {
      "text/html": [
       "<div>\n",
       "<style scoped>\n",
       "    .dataframe tbody tr th:only-of-type {\n",
       "        vertical-align: middle;\n",
       "    }\n",
       "\n",
       "    .dataframe tbody tr th {\n",
       "        vertical-align: top;\n",
       "    }\n",
       "\n",
       "    .dataframe thead th {\n",
       "        text-align: right;\n",
       "    }\n",
       "</style>\n",
       "<table border=\"1\" class=\"dataframe\">\n",
       "  <thead>\n",
       "    <tr style=\"text-align: right;\">\n",
       "      <th></th>\n",
       "      <th>resume_seq</th>\n",
       "      <th>recruitment_seq</th>\n",
       "    </tr>\n",
       "  </thead>\n",
       "  <tbody>\n",
       "    <tr>\n",
       "      <th>42407</th>\n",
       "      <td>U08482</td>\n",
       "      <td>R01931</td>\n",
       "    </tr>\n",
       "    <tr>\n",
       "      <th>42408</th>\n",
       "      <td>U08482</td>\n",
       "      <td>R01607</td>\n",
       "    </tr>\n",
       "    <tr>\n",
       "      <th>42409</th>\n",
       "      <td>U08482</td>\n",
       "      <td>R06059</td>\n",
       "    </tr>\n",
       "  </tbody>\n",
       "</table>\n",
       "</div>"
      ],
      "text/plain": [
       "      resume_seq recruitment_seq\n",
       "42407     U08482          R01931\n",
       "42408     U08482          R01607\n",
       "42409     U08482          R06059"
      ]
     },
     "metadata": {},
     "output_type": "display_data"
    },
    {
     "name": "stdout",
     "output_type": "stream",
     "text": [
      "resume_seq         0\n",
      "recruitment_seq    0\n",
      "dtype: int64\n"
     ]
    }
   ],
   "source": [
    "# 데이터 확인\n",
    "display(sample_submission_data.tail(3))\n",
    "\n",
    "# 결측치 확인\n",
    "print(sample_submission_data.isna().sum())"
   ]
  },
  {
   "cell_type": "markdown",
   "metadata": {},
   "source": [
    "## 1.3 데이터 전처리"
   ]
  }
 ],
 "metadata": {
  "kernelspec": {
   "display_name": "Python 3",
   "language": "python",
   "name": "python3"
  },
  "language_info": {
   "codemirror_mode": {
    "name": "ipython",
    "version": 3
   },
   "file_extension": ".py",
   "mimetype": "text/x-python",
   "name": "python",
   "nbconvert_exporter": "python",
   "pygments_lexer": "ipython3",
   "version": "3.9.13"
  }
 },
 "nbformat": 4,
 "nbformat_minor": 2
}
